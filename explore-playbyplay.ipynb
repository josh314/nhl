{
 "cells": [
  {
   "cell_type": "markdown",
   "metadata": {},
   "source": [
    "# Exploring play-by-play data"
   ]
  },
  {
   "cell_type": "code",
   "execution_count": 1,
   "metadata": {
    "collapsed": false
   },
   "outputs": [],
   "source": [
    "import pandas as pd\n",
    "import numpy as np"
   ]
  },
  {
   "cell_type": "code",
   "execution_count": 2,
   "metadata": {
    "collapsed": false
   },
   "outputs": [],
   "source": [
    "from IPython.display import display, HTML"
   ]
  },
  {
   "cell_type": "markdown",
   "metadata": {},
   "source": [
    "Load up play-by-play data, essentially a sequence of events. This data includes every regular-season and playoff game of the appropriate season. Events are sorted by game and sequential within a game, with specific games identified via `gcode`. For a given player or team, they should be sorted sequentially over the course of the season. "
   ]
  },
  {
   "cell_type": "code",
   "execution_count": 3,
   "metadata": {
    "collapsed": false
   },
   "outputs": [],
   "source": [
    "events = pd.read_csv('/Users/josh/data/nhl/war-on-ice/clean/playbyplay-20142015.csv',header=0)"
   ]
  },
  {
   "cell_type": "markdown",
   "metadata": {},
   "source": [
    "Check out the event types"
   ]
  },
  {
   "cell_type": "code",
   "execution_count": 10,
   "metadata": {
    "collapsed": false,
    "scrolled": true
   },
   "outputs": [
    {
     "data": {
      "text/plain": [
       "etype\n",
       "BLOCK      38545\n",
       "CHANGE    132296\n",
       "EGPID          1\n",
       "EGT            1\n",
       "EIEND          4\n",
       "EISTR          4\n",
       "FAC        81082\n",
       "GIVE       22193\n",
       "GOAL        7377\n",
       "GOFF          27\n",
       "HIT        67418\n",
       "MISS       30887\n",
       "PEND        4459\n",
       "PENL       10563\n",
       "SHOT       72659\n",
       "SOC          173\n",
       "STOP       45863\n",
       "TAKE       18004\n",
       "dtype: int64"
      ]
     },
     "execution_count": 10,
     "metadata": {},
     "output_type": "execute_result"
    }
   ],
   "source": [
    "events.groupby('etype').size()"
   ]
  },
  {
   "cell_type": "markdown",
   "metadata": {},
   "source": [
    "Not sure that I know what all of these are. I get BLOCK, CHANGE, FAC, GIVE, GOAL, HIT, MISS, PENL, SHOT, STOP, and TAKE. Let's take a look at some of the others:"
   ]
  },
  {
   "cell_type": "code",
   "execution_count": null,
   "metadata": {
    "collapsed": false
   },
   "outputs": [],
   "source": [
    "mysterious_etypes = set(['EGPID','EGT','EIEND','EISTR'])"
   ]
  },
  {
   "cell_type": "code",
   "execution_count": null,
   "metadata": {
    "collapsed": false
   },
   "outputs": [],
   "source": [
    "HTML(events.iloc[[idx for idx,x in enumerate(events['etype'].values) if x in mysterious_etypes]].to_html())"
   ]
  },
  {
   "cell_type": "code",
   "execution_count": 60,
   "metadata": {
    "collapsed": false
   },
   "outputs": [],
   "source": [
    "events13 = pd.read_csv('/Users/josh/data/nhl/war-on-ice/clean/playbyplay-20132014.csv',header=0)"
   ]
  },
  {
   "cell_type": "code",
   "execution_count": 61,
   "metadata": {
    "collapsed": false
   },
   "outputs": [
    {
     "data": {
      "text/plain": [
       "etype\n",
       "BLOCK      37755\n",
       "CHANGE    132096\n",
       "EIEND          4\n",
       "EISTR          4\n",
       "FAC        80439\n",
       "GIVE       21156\n",
       "GOAL        7503\n",
       "GOFF           8\n",
       "HIT        64005\n",
       "MISS       31407\n",
       "PEND        4485\n",
       "PENL       11553\n",
       "SHOT       73076\n",
       "SOC          181\n",
       "STOP       45494\n",
       "TAKE       17243\n",
       "dtype: int64"
      ]
     },
     "execution_count": 61,
     "metadata": {},
     "output_type": "execute_result"
    }
   ],
   "source": [
    "events13.groupby('etype').size()"
   ]
  },
  {
   "cell_type": "code",
   "execution_count": 6,
   "metadata": {
    "collapsed": false
   },
   "outputs": [
    {
     "ename": "KeyboardInterrupt",
     "evalue": "",
     "output_type": "error",
     "traceback": [
      "\u001b[0;31m---------------------------------------------------------------------------\u001b[0m",
      "\u001b[0;31mKeyboardInterrupt\u001b[0m                         Traceback (most recent call last)",
      "\u001b[0;32m<ipython-input-6-3167f3fb1917>\u001b[0m in \u001b[0;36m<module>\u001b[0;34m()\u001b[0m\n\u001b[1;32m      1\u001b[0m \u001b[0metypes_s\u001b[0m \u001b[0;34m=\u001b[0m \u001b[0mset\u001b[0m\u001b[0;34m(\u001b[0m\u001b[0;34m[\u001b[0m\u001b[0;34m'SHOT'\u001b[0m\u001b[0;34m]\u001b[0m\u001b[0;34m)\u001b[0m\u001b[0;34m\u001b[0m\u001b[0m\n\u001b[0;32m----> 2\u001b[0;31m \u001b[0mHTML\u001b[0m\u001b[0;34m(\u001b[0m\u001b[0mevents\u001b[0m\u001b[0;34m.\u001b[0m\u001b[0miloc\u001b[0m\u001b[0;34m[\u001b[0m\u001b[0;34m[\u001b[0m\u001b[0midx\u001b[0m \u001b[0;32mfor\u001b[0m \u001b[0midx\u001b[0m\u001b[0;34m,\u001b[0m\u001b[0mx\u001b[0m \u001b[0;32min\u001b[0m \u001b[0menumerate\u001b[0m\u001b[0;34m(\u001b[0m\u001b[0mevents\u001b[0m\u001b[0;34m[\u001b[0m\u001b[0;34m'etype'\u001b[0m\u001b[0;34m]\u001b[0m\u001b[0;34m.\u001b[0m\u001b[0mvalues\u001b[0m\u001b[0;34m)\u001b[0m \u001b[0;32mif\u001b[0m \u001b[0mx\u001b[0m \u001b[0;32min\u001b[0m \u001b[0metypes_s\u001b[0m\u001b[0;34m]\u001b[0m\u001b[0;34m]\u001b[0m\u001b[0;34m.\u001b[0m\u001b[0mto_html\u001b[0m\u001b[0;34m(\u001b[0m\u001b[0;34m)\u001b[0m\u001b[0;34m)\u001b[0m\u001b[0;34m\u001b[0m\u001b[0m\n\u001b[0m",
      "\u001b[0;32m/Users/josh/anaconda/lib/python3.4/site-packages/pandas/core/frame.py\u001b[0m in \u001b[0;36mto_html\u001b[0;34m(self, buf, columns, col_space, colSpace, header, index, na_rep, formatters, float_format, sparsify, index_names, justify, bold_rows, classes, escape, max_rows, max_cols, show_dimensions, notebook)\u001b[0m\n\u001b[1;32m   1392\u001b[0m                                            \u001b[0mmax_cols\u001b[0m\u001b[0;34m=\u001b[0m\u001b[0mmax_cols\u001b[0m\u001b[0;34m,\u001b[0m\u001b[0;34m\u001b[0m\u001b[0m\n\u001b[1;32m   1393\u001b[0m                                            show_dimensions=show_dimensions)\n\u001b[0;32m-> 1394\u001b[0;31m         \u001b[0mformatter\u001b[0m\u001b[0;34m.\u001b[0m\u001b[0mto_html\u001b[0m\u001b[0;34m(\u001b[0m\u001b[0mclasses\u001b[0m\u001b[0;34m=\u001b[0m\u001b[0mclasses\u001b[0m\u001b[0;34m,\u001b[0m \u001b[0mnotebook\u001b[0m\u001b[0;34m=\u001b[0m\u001b[0mnotebook\u001b[0m\u001b[0;34m)\u001b[0m\u001b[0;34m\u001b[0m\u001b[0m\n\u001b[0m\u001b[1;32m   1395\u001b[0m \u001b[0;34m\u001b[0m\u001b[0m\n\u001b[1;32m   1396\u001b[0m         \u001b[0;32mif\u001b[0m \u001b[0mbuf\u001b[0m \u001b[0;32mis\u001b[0m \u001b[0;32mNone\u001b[0m\u001b[0;34m:\u001b[0m\u001b[0;34m\u001b[0m\u001b[0m\n",
      "\u001b[0;32m/Users/josh/anaconda/lib/python3.4/site-packages/pandas/core/format.py\u001b[0m in \u001b[0;36mto_html\u001b[0;34m(self, classes, notebook)\u001b[0m\n\u001b[1;32m    709\u001b[0m                                       notebook=notebook)\n\u001b[1;32m    710\u001b[0m         \u001b[0;32mif\u001b[0m \u001b[0mhasattr\u001b[0m\u001b[0;34m(\u001b[0m\u001b[0mself\u001b[0m\u001b[0;34m.\u001b[0m\u001b[0mbuf\u001b[0m\u001b[0;34m,\u001b[0m \u001b[0;34m'write'\u001b[0m\u001b[0;34m)\u001b[0m\u001b[0;34m:\u001b[0m\u001b[0;34m\u001b[0m\u001b[0m\n\u001b[0;32m--> 711\u001b[0;31m             \u001b[0mhtml_renderer\u001b[0m\u001b[0;34m.\u001b[0m\u001b[0mwrite_result\u001b[0m\u001b[0;34m(\u001b[0m\u001b[0mself\u001b[0m\u001b[0;34m.\u001b[0m\u001b[0mbuf\u001b[0m\u001b[0;34m)\u001b[0m\u001b[0;34m\u001b[0m\u001b[0m\n\u001b[0m\u001b[1;32m    712\u001b[0m         \u001b[0;32melif\u001b[0m \u001b[0misinstance\u001b[0m\u001b[0;34m(\u001b[0m\u001b[0mself\u001b[0m\u001b[0;34m.\u001b[0m\u001b[0mbuf\u001b[0m\u001b[0;34m,\u001b[0m \u001b[0mcompat\u001b[0m\u001b[0;34m.\u001b[0m\u001b[0mstring_types\u001b[0m\u001b[0;34m)\u001b[0m\u001b[0;34m:\u001b[0m\u001b[0;34m\u001b[0m\u001b[0m\n\u001b[1;32m    713\u001b[0m             \u001b[0;32mwith\u001b[0m \u001b[0mopen\u001b[0m\u001b[0;34m(\u001b[0m\u001b[0mself\u001b[0m\u001b[0;34m.\u001b[0m\u001b[0mbuf\u001b[0m\u001b[0;34m,\u001b[0m \u001b[0;34m'w'\u001b[0m\u001b[0;34m)\u001b[0m \u001b[0;32mas\u001b[0m \u001b[0mf\u001b[0m\u001b[0;34m:\u001b[0m\u001b[0;34m\u001b[0m\u001b[0m\n",
      "\u001b[0;32m/Users/josh/anaconda/lib/python3.4/site-packages/pandas/core/format.py\u001b[0m in \u001b[0;36mwrite_result\u001b[0;34m(self, buf)\u001b[0m\n\u001b[1;32m    917\u001b[0m         \u001b[0mindent\u001b[0m \u001b[0;34m+=\u001b[0m \u001b[0mself\u001b[0m\u001b[0;34m.\u001b[0m\u001b[0mindent_delta\u001b[0m\u001b[0;34m\u001b[0m\u001b[0m\n\u001b[1;32m    918\u001b[0m         \u001b[0mindent\u001b[0m \u001b[0;34m=\u001b[0m \u001b[0mself\u001b[0m\u001b[0;34m.\u001b[0m\u001b[0m_write_header\u001b[0m\u001b[0;34m(\u001b[0m\u001b[0mindent\u001b[0m\u001b[0;34m)\u001b[0m\u001b[0;34m\u001b[0m\u001b[0m\n\u001b[0;32m--> 919\u001b[0;31m         \u001b[0mindent\u001b[0m \u001b[0;34m=\u001b[0m \u001b[0mself\u001b[0m\u001b[0;34m.\u001b[0m\u001b[0m_write_body\u001b[0m\u001b[0;34m(\u001b[0m\u001b[0mindent\u001b[0m\u001b[0;34m)\u001b[0m\u001b[0;34m\u001b[0m\u001b[0m\n\u001b[0m\u001b[1;32m    920\u001b[0m \u001b[0;34m\u001b[0m\u001b[0m\n\u001b[1;32m    921\u001b[0m         \u001b[0mself\u001b[0m\u001b[0;34m.\u001b[0m\u001b[0mwrite\u001b[0m\u001b[0;34m(\u001b[0m\u001b[0;34m'</table>'\u001b[0m\u001b[0;34m,\u001b[0m \u001b[0mindent\u001b[0m\u001b[0;34m)\u001b[0m\u001b[0;34m\u001b[0m\u001b[0m\n",
      "\u001b[0;32m/Users/josh/anaconda/lib/python3.4/site-packages/pandas/core/format.py\u001b[0m in \u001b[0;36m_write_body\u001b[0;34m(self, indent)\u001b[0m\n\u001b[1;32m   1072\u001b[0m                 \u001b[0mself\u001b[0m\u001b[0;34m.\u001b[0m\u001b[0m_write_hierarchical_rows\u001b[0m\u001b[0;34m(\u001b[0m\u001b[0mfmt_values\u001b[0m\u001b[0;34m,\u001b[0m \u001b[0mindent\u001b[0m\u001b[0;34m)\u001b[0m\u001b[0;34m\u001b[0m\u001b[0m\n\u001b[1;32m   1073\u001b[0m             \u001b[0;32melse\u001b[0m\u001b[0;34m:\u001b[0m\u001b[0;34m\u001b[0m\u001b[0m\n\u001b[0;32m-> 1074\u001b[0;31m                 \u001b[0mself\u001b[0m\u001b[0;34m.\u001b[0m\u001b[0m_write_regular_rows\u001b[0m\u001b[0;34m(\u001b[0m\u001b[0mfmt_values\u001b[0m\u001b[0;34m,\u001b[0m \u001b[0mindent\u001b[0m\u001b[0;34m)\u001b[0m\u001b[0;34m\u001b[0m\u001b[0m\n\u001b[0m\u001b[1;32m   1075\u001b[0m         \u001b[0;32melse\u001b[0m\u001b[0;34m:\u001b[0m\u001b[0;34m\u001b[0m\u001b[0m\n\u001b[1;32m   1076\u001b[0m             \u001b[0;32mfor\u001b[0m \u001b[0mi\u001b[0m \u001b[0;32min\u001b[0m \u001b[0mrange\u001b[0m\u001b[0;34m(\u001b[0m\u001b[0mlen\u001b[0m\u001b[0;34m(\u001b[0m\u001b[0mself\u001b[0m\u001b[0;34m.\u001b[0m\u001b[0mframe\u001b[0m\u001b[0;34m)\u001b[0m\u001b[0;34m)\u001b[0m\u001b[0;34m:\u001b[0m\u001b[0;34m\u001b[0m\u001b[0m\n",
      "\u001b[0;32m/Users/josh/anaconda/lib/python3.4/site-packages/pandas/core/format.py\u001b[0m in \u001b[0;36m_write_regular_rows\u001b[0;34m(self, fmt_values, indent)\u001b[0m\n\u001b[1;32m   1112\u001b[0m                 \u001b[0mrow\u001b[0m\u001b[0;34m.\u001b[0m\u001b[0minsert\u001b[0m\u001b[0;34m(\u001b[0m\u001b[0mdot_col_ix\u001b[0m\u001b[0;34m,\u001b[0m \u001b[0;34m'...'\u001b[0m\u001b[0;34m)\u001b[0m\u001b[0;34m\u001b[0m\u001b[0m\n\u001b[1;32m   1113\u001b[0m             self.write_tr(row, indent, self.indent_delta, tags=None,\n\u001b[0;32m-> 1114\u001b[0;31m                           nindex_levels=1)\n\u001b[0m\u001b[1;32m   1115\u001b[0m \u001b[0;34m\u001b[0m\u001b[0m\n\u001b[1;32m   1116\u001b[0m     \u001b[0;32mdef\u001b[0m \u001b[0m_write_hierarchical_rows\u001b[0m\u001b[0;34m(\u001b[0m\u001b[0mself\u001b[0m\u001b[0;34m,\u001b[0m \u001b[0mfmt_values\u001b[0m\u001b[0;34m,\u001b[0m \u001b[0mindent\u001b[0m\u001b[0;34m)\u001b[0m\u001b[0;34m:\u001b[0m\u001b[0;34m\u001b[0m\u001b[0m\n",
      "\u001b[0;32m/Users/josh/anaconda/lib/python3.4/site-packages/pandas/core/format.py\u001b[0m in \u001b[0;36mwrite_tr\u001b[0;34m(self, line, indent, indent_delta, header, align, tags, nindex_levels)\u001b[0m\n\u001b[1;32m    883\u001b[0m                 \u001b[0mself\u001b[0m\u001b[0;34m.\u001b[0m\u001b[0mwrite_th\u001b[0m\u001b[0;34m(\u001b[0m\u001b[0ms\u001b[0m\u001b[0;34m,\u001b[0m \u001b[0mindent\u001b[0m\u001b[0;34m,\u001b[0m \u001b[0mtags\u001b[0m\u001b[0;34m=\u001b[0m\u001b[0mval_tag\u001b[0m\u001b[0;34m)\u001b[0m\u001b[0;34m\u001b[0m\u001b[0m\n\u001b[1;32m    884\u001b[0m             \u001b[0;32melse\u001b[0m\u001b[0;34m:\u001b[0m\u001b[0;34m\u001b[0m\u001b[0m\n\u001b[0;32m--> 885\u001b[0;31m                 \u001b[0mself\u001b[0m\u001b[0;34m.\u001b[0m\u001b[0mwrite_td\u001b[0m\u001b[0;34m(\u001b[0m\u001b[0ms\u001b[0m\u001b[0;34m,\u001b[0m \u001b[0mindent\u001b[0m\u001b[0;34m,\u001b[0m \u001b[0mtags\u001b[0m\u001b[0;34m=\u001b[0m\u001b[0mval_tag\u001b[0m\u001b[0;34m)\u001b[0m\u001b[0;34m\u001b[0m\u001b[0m\n\u001b[0m\u001b[1;32m    886\u001b[0m \u001b[0;34m\u001b[0m\u001b[0m\n\u001b[1;32m    887\u001b[0m         \u001b[0mindent\u001b[0m \u001b[0;34m-=\u001b[0m \u001b[0mindent_delta\u001b[0m\u001b[0;34m\u001b[0m\u001b[0m\n",
      "\u001b[0;32m/Users/josh/anaconda/lib/python3.4/site-packages/pandas/core/format.py\u001b[0m in \u001b[0;36mwrite_td\u001b[0;34m(self, s, indent, tags)\u001b[0m\n\u001b[1;32m    848\u001b[0m \u001b[0;34m\u001b[0m\u001b[0m\n\u001b[1;32m    849\u001b[0m     \u001b[0;32mdef\u001b[0m \u001b[0mwrite_td\u001b[0m\u001b[0;34m(\u001b[0m\u001b[0mself\u001b[0m\u001b[0;34m,\u001b[0m \u001b[0ms\u001b[0m\u001b[0;34m,\u001b[0m \u001b[0mindent\u001b[0m\u001b[0;34m=\u001b[0m\u001b[0;36m0\u001b[0m\u001b[0;34m,\u001b[0m \u001b[0mtags\u001b[0m\u001b[0;34m=\u001b[0m\u001b[0;32mNone\u001b[0m\u001b[0;34m)\u001b[0m\u001b[0;34m:\u001b[0m\u001b[0;34m\u001b[0m\u001b[0m\n\u001b[0;32m--> 850\u001b[0;31m         \u001b[0;32mreturn\u001b[0m \u001b[0mself\u001b[0m\u001b[0;34m.\u001b[0m\u001b[0m_write_cell\u001b[0m\u001b[0;34m(\u001b[0m\u001b[0ms\u001b[0m\u001b[0;34m,\u001b[0m \u001b[0mkind\u001b[0m\u001b[0;34m=\u001b[0m\u001b[0;34m'td'\u001b[0m\u001b[0;34m,\u001b[0m \u001b[0mindent\u001b[0m\u001b[0;34m=\u001b[0m\u001b[0mindent\u001b[0m\u001b[0;34m,\u001b[0m \u001b[0mtags\u001b[0m\u001b[0;34m=\u001b[0m\u001b[0mtags\u001b[0m\u001b[0;34m)\u001b[0m\u001b[0;34m\u001b[0m\u001b[0m\n\u001b[0m\u001b[1;32m    851\u001b[0m \u001b[0;34m\u001b[0m\u001b[0m\n\u001b[1;32m    852\u001b[0m     \u001b[0;32mdef\u001b[0m \u001b[0m_write_cell\u001b[0m\u001b[0;34m(\u001b[0m\u001b[0mself\u001b[0m\u001b[0;34m,\u001b[0m \u001b[0ms\u001b[0m\u001b[0;34m,\u001b[0m \u001b[0mkind\u001b[0m\u001b[0;34m=\u001b[0m\u001b[0;34m'td'\u001b[0m\u001b[0;34m,\u001b[0m \u001b[0mindent\u001b[0m\u001b[0;34m=\u001b[0m\u001b[0;36m0\u001b[0m\u001b[0;34m,\u001b[0m \u001b[0mtags\u001b[0m\u001b[0;34m=\u001b[0m\u001b[0;32mNone\u001b[0m\u001b[0;34m)\u001b[0m\u001b[0;34m:\u001b[0m\u001b[0;34m\u001b[0m\u001b[0m\n",
      "\u001b[0;32m/Users/josh/anaconda/lib/python3.4/site-packages/pandas/core/format.py\u001b[0m in \u001b[0;36m_write_cell\u001b[0;34m(self, s, kind, indent, tags)\u001b[0m\n\u001b[1;32m    863\u001b[0m         \u001b[0;32melse\u001b[0m\u001b[0;34m:\u001b[0m\u001b[0;34m\u001b[0m\u001b[0m\n\u001b[1;32m    864\u001b[0m             \u001b[0mesc\u001b[0m \u001b[0;34m=\u001b[0m \u001b[0;34m{\u001b[0m\u001b[0;34m}\u001b[0m\u001b[0;34m\u001b[0m\u001b[0m\n\u001b[0;32m--> 865\u001b[0;31m         \u001b[0mrs\u001b[0m \u001b[0;34m=\u001b[0m \u001b[0mcom\u001b[0m\u001b[0;34m.\u001b[0m\u001b[0mpprint_thing\u001b[0m\u001b[0;34m(\u001b[0m\u001b[0ms\u001b[0m\u001b[0;34m,\u001b[0m \u001b[0mescape_chars\u001b[0m\u001b[0;34m=\u001b[0m\u001b[0mesc\u001b[0m\u001b[0;34m)\u001b[0m\u001b[0;34m.\u001b[0m\u001b[0mstrip\u001b[0m\u001b[0;34m(\u001b[0m\u001b[0;34m)\u001b[0m\u001b[0;34m\u001b[0m\u001b[0m\n\u001b[0m\u001b[1;32m    866\u001b[0m         self.write(\n\u001b[1;32m    867\u001b[0m             '%s%s</%s>' % (start_tag, rs, kind), indent)\n",
      "\u001b[0;32m/Users/josh/anaconda/lib/python3.4/site-packages/pandas/core/common.py\u001b[0m in \u001b[0;36mpprint_thing\u001b[0;34m(thing, _nest_lvl, escape_chars, default_escapes, quote_strings, max_seq_items)\u001b[0m\n\u001b[1;32m   3259\u001b[0m         \u001b[0;32mreturn\u001b[0m \u001b[0mcompat\u001b[0m\u001b[0;34m.\u001b[0m\u001b[0mtext_type\u001b[0m\u001b[0;34m(\u001b[0m\u001b[0mresult\u001b[0m\u001b[0;34m)\u001b[0m\u001b[0;34m\u001b[0m\u001b[0m\n\u001b[1;32m   3260\u001b[0m \u001b[0;34m\u001b[0m\u001b[0m\n\u001b[0;32m-> 3261\u001b[0;31m     \u001b[0;32mif\u001b[0m \u001b[0;34m(\u001b[0m\u001b[0mcompat\u001b[0m\u001b[0;34m.\u001b[0m\u001b[0mPY3\u001b[0m \u001b[0;32mand\u001b[0m \u001b[0mhasattr\u001b[0m\u001b[0;34m(\u001b[0m\u001b[0mthing\u001b[0m\u001b[0;34m,\u001b[0m \u001b[0;34m'__next__'\u001b[0m\u001b[0;34m)\u001b[0m\u001b[0;34m)\u001b[0m \u001b[0;32mor\u001b[0m \u001b[0mhasattr\u001b[0m\u001b[0;34m(\u001b[0m\u001b[0mthing\u001b[0m\u001b[0;34m,\u001b[0m \u001b[0;34m'next'\u001b[0m\u001b[0;34m)\u001b[0m\u001b[0;34m:\u001b[0m\u001b[0;34m\u001b[0m\u001b[0m\n\u001b[0m\u001b[1;32m   3262\u001b[0m         \u001b[0;32mreturn\u001b[0m \u001b[0mcompat\u001b[0m\u001b[0;34m.\u001b[0m\u001b[0mtext_type\u001b[0m\u001b[0;34m(\u001b[0m\u001b[0mthing\u001b[0m\u001b[0;34m)\u001b[0m\u001b[0;34m\u001b[0m\u001b[0m\n\u001b[1;32m   3263\u001b[0m     elif (isinstance(thing, dict) and\n",
      "\u001b[0;31mKeyboardInterrupt\u001b[0m: "
     ]
    }
   ],
   "source": [
    "etypes_s = set(['SHOT'])\n",
    "HTML(events.iloc[[idx for idx,x in enumerate(events['etype'].values) if x in etypes_s]].to_html())"
   ]
  },
  {
   "cell_type": "code",
   "execution_count": 9,
   "metadata": {
    "collapsed": false
   },
   "outputs": [
    {
     "data": {
      "text/html": [
       "<table border=\"1\" class=\"dataframe\">\n",
       "  <thead>\n",
       "    <tr style=\"text-align: right;\">\n",
       "      <th></th>\n",
       "      <th>season</th>\n",
       "      <th>gcode</th>\n",
       "      <th>refdate</th>\n",
       "      <th>event</th>\n",
       "      <th>period</th>\n",
       "      <th>seconds</th>\n",
       "      <th>etype</th>\n",
       "      <th>a1</th>\n",
       "      <th>a2</th>\n",
       "      <th>a3</th>\n",
       "      <th>a4</th>\n",
       "      <th>a5</th>\n",
       "      <th>a6</th>\n",
       "      <th>h1</th>\n",
       "      <th>h2</th>\n",
       "      <th>h3</th>\n",
       "      <th>h4</th>\n",
       "      <th>h5</th>\n",
       "      <th>h6</th>\n",
       "      <th>ev.team</th>\n",
       "      <th>ev.player.1</th>\n",
       "      <th>ev.player.2</th>\n",
       "      <th>ev.player.3</th>\n",
       "      <th>distance</th>\n",
       "      <th>type</th>\n",
       "      <th>homezone</th>\n",
       "      <th>xcoord</th>\n",
       "      <th>ycoord</th>\n",
       "      <th>awayteam</th>\n",
       "      <th>hometeam</th>\n",
       "      <th>home.score</th>\n",
       "      <th>away.score</th>\n",
       "      <th>event.length</th>\n",
       "      <th>away.G</th>\n",
       "      <th>home.G</th>\n",
       "      <th>home.skaters</th>\n",
       "      <th>away.skaters</th>\n",
       "      <th>adjusted.distance</th>\n",
       "      <th>shot.feature</th>\n",
       "      <th>import.ies</th>\n",
       "      <th>loc.section</th>\n",
       "      <th>new.loc.section</th>\n",
       "      <th>newxc</th>\n",
       "      <th>newyc</th>\n",
       "      <th>score.diff.cat</th>\n",
       "      <th>subdistance</th>\n",
       "    </tr>\n",
       "  </thead>\n",
       "  <tbody>\n",
       "    <tr>\n",
       "      <th>5</th>\n",
       "      <td>20142015</td>\n",
       "      <td>20001</td>\n",
       "      <td>4663</td>\n",
       "      <td>6</td>\n",
       "      <td>1</td>\n",
       "      <td>47</td>\n",
       "      <td>SHOT</td>\n",
       "      <td>plekato82</td>\n",
       "      <td>galchal94</td>\n",
       "      <td>gallabr92</td>\n",
       "      <td>gilbeto83</td>\n",
       "      <td>markoan78</td>\n",
       "      <td>NaN</td>\n",
       "      <td>bozakty86</td>\n",
       "      <td>kesseph87</td>\n",
       "      <td>vanrija89</td>\n",
       "      <td>polakro86</td>\n",
       "      <td>percyst93</td>\n",
       "      <td>NaN</td>\n",
       "      <td>TOR</td>\n",
       "      <td>bozakty86</td>\n",
       "      <td>NaN</td>\n",
       "      <td>NaN</td>\n",
       "      <td>46</td>\n",
       "      <td>Backhand</td>\n",
       "      <td>Off</td>\n",
       "      <td>-54</td>\n",
       "      <td>29</td>\n",
       "      <td>MTL</td>\n",
       "      <td>TOR</td>\n",
       "      <td>0</td>\n",
       "      <td>0</td>\n",
       "      <td>5.5</td>\n",
       "      <td>priceca87</td>\n",
       "      <td>bernijo88</td>\n",
       "      <td>6</td>\n",
       "      <td>6</td>\n",
       "      <td>43.469203</td>\n",
       "      <td>rushn8</td>\n",
       "      <td>0</td>\n",
       "      <td>0</td>\n",
       "      <td>4</td>\n",
       "      <td>56</td>\n",
       "      <td>-27</td>\n",
       "      <td>3</td>\n",
       "      <td>10</td>\n",
       "    </tr>\n",
       "    <tr>\n",
       "      <th>11</th>\n",
       "      <td>20142015</td>\n",
       "      <td>20001</td>\n",
       "      <td>4663</td>\n",
       "      <td>12</td>\n",
       "      <td>1</td>\n",
       "      <td>85</td>\n",
       "      <td>SHOT</td>\n",
       "      <td>plekato82</td>\n",
       "      <td>galchal94</td>\n",
       "      <td>gallabr92</td>\n",
       "      <td>gilbeto83</td>\n",
       "      <td>markoan78</td>\n",
       "      <td>NaN</td>\n",
       "      <td>kadrina90</td>\n",
       "      <td>lupuljo83</td>\n",
       "      <td>kozunbr90</td>\n",
       "      <td>polakro86</td>\n",
       "      <td>percyst93</td>\n",
       "      <td>NaN</td>\n",
       "      <td>TOR</td>\n",
       "      <td>polakro86</td>\n",
       "      <td>NaN</td>\n",
       "      <td>NaN</td>\n",
       "      <td>59</td>\n",
       "      <td>Wrist</td>\n",
       "      <td>Off</td>\n",
       "      <td>-40</td>\n",
       "      <td>32</td>\n",
       "      <td>MTL</td>\n",
       "      <td>TOR</td>\n",
       "      <td>0</td>\n",
       "      <td>0</td>\n",
       "      <td>11.0</td>\n",
       "      <td>priceca87</td>\n",
       "      <td>bernijo88</td>\n",
       "      <td>6</td>\n",
       "      <td>6</td>\n",
       "      <td>58.837004</td>\n",
       "      <td>NaN</td>\n",
       "      <td>0</td>\n",
       "      <td>0</td>\n",
       "      <td>1</td>\n",
       "      <td>40</td>\n",
       "      <td>-32</td>\n",
       "      <td>3</td>\n",
       "      <td>12</td>\n",
       "    </tr>\n",
       "    <tr>\n",
       "      <th>21</th>\n",
       "      <td>20142015</td>\n",
       "      <td>20001</td>\n",
       "      <td>4663</td>\n",
       "      <td>22</td>\n",
       "      <td>1</td>\n",
       "      <td>150</td>\n",
       "      <td>SHOT</td>\n",
       "      <td>ellerla89</td>\n",
       "      <td>bourqre81</td>\n",
       "      <td>sekacji92</td>\n",
       "      <td>beaulna92</td>\n",
       "      <td>weavemi78</td>\n",
       "      <td>NaN</td>\n",
       "      <td>hollape91</td>\n",
       "      <td>komarle87</td>\n",
       "      <td>clarkda84</td>\n",
       "      <td>phanedi85</td>\n",
       "      <td>robidst77</td>\n",
       "      <td>NaN</td>\n",
       "      <td>TOR</td>\n",
       "      <td>komarle87</td>\n",
       "      <td>NaN</td>\n",
       "      <td>NaN</td>\n",
       "      <td>24</td>\n",
       "      <td>Snap</td>\n",
       "      <td>Off</td>\n",
       "      <td>-66</td>\n",
       "      <td>1</td>\n",
       "      <td>MTL</td>\n",
       "      <td>TOR</td>\n",
       "      <td>0</td>\n",
       "      <td>0</td>\n",
       "      <td>9.0</td>\n",
       "      <td>priceca87</td>\n",
       "      <td>bernijo88</td>\n",
       "      <td>6</td>\n",
       "      <td>6</td>\n",
       "      <td>20.134376</td>\n",
       "      <td>rushn12</td>\n",
       "      <td>0</td>\n",
       "      <td>0</td>\n",
       "      <td>11</td>\n",
       "      <td>70</td>\n",
       "      <td>-1</td>\n",
       "      <td>3</td>\n",
       "      <td>5</td>\n",
       "    </tr>\n",
       "    <tr>\n",
       "      <th>30</th>\n",
       "      <td>20142015</td>\n",
       "      <td>20001</td>\n",
       "      <td>4663</td>\n",
       "      <td>31</td>\n",
       "      <td>1</td>\n",
       "      <td>191</td>\n",
       "      <td>SHOT</td>\n",
       "      <td>malhoma80</td>\n",
       "      <td>weiseda88</td>\n",
       "      <td>prustbr84</td>\n",
       "      <td>emelial86</td>\n",
       "      <td>subbap.89</td>\n",
       "      <td>NaN</td>\n",
       "      <td>hollape91</td>\n",
       "      <td>winnida85</td>\n",
       "      <td>frattma88</td>\n",
       "      <td>phanedi85</td>\n",
       "      <td>robidst77</td>\n",
       "      <td>NaN</td>\n",
       "      <td>TOR</td>\n",
       "      <td>hollape91</td>\n",
       "      <td>NaN</td>\n",
       "      <td>NaN</td>\n",
       "      <td>47</td>\n",
       "      <td>Wrist</td>\n",
       "      <td>Off</td>\n",
       "      <td>-57</td>\n",
       "      <td>-34</td>\n",
       "      <td>MTL</td>\n",
       "      <td>TOR</td>\n",
       "      <td>0</td>\n",
       "      <td>0</td>\n",
       "      <td>1.0</td>\n",
       "      <td>priceca87</td>\n",
       "      <td>bernijo88</td>\n",
       "      <td>6</td>\n",
       "      <td>6</td>\n",
       "      <td>44.863015</td>\n",
       "      <td>NaN</td>\n",
       "      <td>0</td>\n",
       "      <td>0</td>\n",
       "      <td>8</td>\n",
       "      <td>58</td>\n",
       "      <td>32</td>\n",
       "      <td>3</td>\n",
       "      <td>10</td>\n",
       "    </tr>\n",
       "    <tr>\n",
       "      <th>34</th>\n",
       "      <td>20142015</td>\n",
       "      <td>20001</td>\n",
       "      <td>4663</td>\n",
       "      <td>35</td>\n",
       "      <td>1</td>\n",
       "      <td>205</td>\n",
       "      <td>SHOT</td>\n",
       "      <td>plekato82</td>\n",
       "      <td>galchal94</td>\n",
       "      <td>gallabr92</td>\n",
       "      <td>gilbeto83</td>\n",
       "      <td>markoan78</td>\n",
       "      <td>NaN</td>\n",
       "      <td>kadrina90</td>\n",
       "      <td>lupuljo83</td>\n",
       "      <td>kozunbr90</td>\n",
       "      <td>phanedi85</td>\n",
       "      <td>robidst77</td>\n",
       "      <td>NaN</td>\n",
       "      <td>TOR</td>\n",
       "      <td>kadrina90</td>\n",
       "      <td>NaN</td>\n",
       "      <td>NaN</td>\n",
       "      <td>32</td>\n",
       "      <td>Wrist</td>\n",
       "      <td>Off</td>\n",
       "      <td>-60</td>\n",
       "      <td>-13</td>\n",
       "      <td>MTL</td>\n",
       "      <td>TOR</td>\n",
       "      <td>0</td>\n",
       "      <td>0</td>\n",
       "      <td>3.0</td>\n",
       "      <td>priceca87</td>\n",
       "      <td>bernijo88</td>\n",
       "      <td>6</td>\n",
       "      <td>6</td>\n",
       "      <td>27.767489</td>\n",
       "      <td>rushn4</td>\n",
       "      <td>0</td>\n",
       "      <td>0</td>\n",
       "      <td>7</td>\n",
       "      <td>64</td>\n",
       "      <td>11</td>\n",
       "      <td>3</td>\n",
       "      <td>7</td>\n",
       "    </tr>\n",
       "  </tbody>\n",
       "</table>"
      ],
      "text/plain": [
       "<IPython.core.display.HTML object>"
      ]
     },
     "execution_count": 9,
     "metadata": {},
     "output_type": "execute_result"
    }
   ],
   "source": [
    "HTML(events[events['etype']=='SHOT'].head().to_html())"
   ]
  },
  {
   "cell_type": "code",
   "execution_count": null,
   "metadata": {
    "collapsed": true
   },
   "outputs": [],
   "source": []
  }
 ],
 "metadata": {
  "kernelspec": {
   "display_name": "Python 3",
   "language": "python",
   "name": "python3"
  },
  "language_info": {
   "codemirror_mode": {
    "name": "ipython",
    "version": 3
   },
   "file_extension": ".py",
   "mimetype": "text/x-python",
   "name": "python",
   "nbconvert_exporter": "python",
   "pygments_lexer": "ipython3",
   "version": "3.4.3"
  }
 },
 "nbformat": 4,
 "nbformat_minor": 0
}
